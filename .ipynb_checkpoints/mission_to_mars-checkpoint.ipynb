{
 "cells": [
  {
   "cell_type": "code",
   "execution_count": 1,
   "metadata": {},
   "outputs": [],
   "source": [
    "#import dependencies\n",
    "from bs4 import BeautifulSoup as bs\n",
    "import pandas as pd\n",
    "from splinter import Browser\n",
    "import pymongo"
   ]
  },
  {
   "cell_type": "code",
   "execution_count": 2,
   "metadata": {},
   "outputs": [],
   "source": [
    "#set up splinter to use Chrome\n",
    "executable_path = {'executable_path': 'chromedriver.exe'}\n",
    "browser = Browser('chrome', **executable_path, headless=False)"
   ]
  },
  {
   "cell_type": "code",
   "execution_count": 3,
   "metadata": {},
   "outputs": [],
   "source": [
    "#visit nasa page with splinter\n",
    "url = 'https://mars.nasa.gov/news/?page=0&per_page=40&order=publish_date+desc%2Ccreated_at+desc&search=&category=19%2C165%2C184%2C204&blank_scope=Latest'\n",
    "browser.visit(url)"
   ]
  },
  {
   "cell_type": "code",
   "execution_count": 4,
   "metadata": {},
   "outputs": [
    {
     "name": "stdout",
     "output_type": "stream",
     "text": [
      "Fueling of NASA's Mars 2020 Rover Power System Begins\n",
      "NASA gives the go-ahead to fuel the Mars 2020 rover's Multi-Mission Radioisotope Thermoelectric Generator, which will power rover and help keep it warm while exploring Mars.\n"
     ]
    }
   ],
   "source": [
    "#use Beautiful Soup to collect first article headline and teaser\n",
    "html = browser.html\n",
    "soup = bs(html, 'html.parser')\n",
    "\n",
    "news_title = soup.find('div', class_='content_title').text\n",
    "news_p = soup.find('div', class_='article_teaser_body').text\n",
    "\n",
    "#print results\n",
    "print(news_title)\n",
    "print(news_p)"
   ]
  },
  {
   "cell_type": "code",
   "execution_count": 5,
   "metadata": {},
   "outputs": [],
   "source": [
    "#visit JPL website with splinter|\n",
    "url = 'https://www.jpl.nasa.gov/spaceimages/?search=&category=Mars'\n",
    "browser.visit(url)"
   ]
  },
  {
   "cell_type": "code",
   "execution_count": 6,
   "metadata": {},
   "outputs": [
    {
     "name": "stdout",
     "output_type": "stream",
     "text": [
      "https://www.jpl.nasa.gov/spaceimages/images/mediumsize/PIA19382_ip.jpg\n"
     ]
    }
   ],
   "source": [
    "#use Beautiful Soup to collect url of featured image\n",
    "html = browser.html\n",
    "soup = bs(html, 'html.parser')\n",
    "\n",
    "featured_image_url = soup.find('article', class_='carousel_item')\n",
    "featured_image_url = featured_image_url.find(id=\"full_image\")\n",
    "featured_image_url = featured_image_url.attrs['data-fancybox-href']\n",
    "featured_image_url = 'https://www.jpl.nasa.gov' + featured_image_url\n",
    "#print result\n",
    "print(featured_image_url)"
   ]
  },
  {
   "cell_type": "code",
   "execution_count": 7,
   "metadata": {},
   "outputs": [],
   "source": [
    "#visit Mars Weather twitter page with splinter\n",
    "url = 'https://twitter.com/marswxreport?lang=en'\n",
    "browser.visit(url)"
   ]
  },
  {
   "cell_type": "code",
   "execution_count": 8,
   "metadata": {},
   "outputs": [
    {
     "name": "stdout",
     "output_type": "stream",
     "text": [
      "Apollo 11 returned home safely 50 years ago today thanks in part to some quick thinking meteorologists and the people who trusted themhttps://twitter.com/rtphokie/status/1154098438205784064 …\n"
     ]
    }
   ],
   "source": [
    "#use Beautiful Soup to collect text of most recent tweet\n",
    "html = browser.html\n",
    "soup = bs(html, 'html.parser')\n",
    "\n",
    "mars_weather = soup.find('p', class_='TweetTextSize TweetTextSize--normal js-tweet-text tweet-text').text\n",
    "\n",
    "#print result\n",
    "print(mars_weather)"
   ]
  },
  {
   "cell_type": "code",
   "execution_count": 9,
   "metadata": {},
   "outputs": [
    {
     "name": "stdout",
     "output_type": "stream",
     "text": [
      "<bound method DataFrame.to_html of   Mars - Earth Comparison             Mars            Earth\n",
      "0               Diameter:         6,779 km        12,742 km\n",
      "1                   Mass:  6.39 × 10^23 kg  5.97 × 10^24 kg\n",
      "2                  Moons:                2                1\n",
      "3      Distance from Sun:   227,943,824 km   149,598,262 km\n",
      "4         Length of Year:   687 Earth days      365.24 days\n",
      "5            Temperature:    -153 to 20 °C      -88 to 58°C>\n"
     ]
    }
   ],
   "source": [
    "#Use Pandas to collect Mars Facts table from space facts website\n",
    "url = 'https://space-facts.com/mars/'\n",
    "table = pd.read_html(url)\n",
    "table = table[0].to_html\n",
    "\n",
    "#print result\n",
    "print(table)"
   ]
  },
  {
   "cell_type": "code",
   "execution_count": 15,
   "metadata": {},
   "outputs": [],
   "source": [
    "    url = 'https://space-facts.com/mars/'\n",
    "    table = pd.read_html(url)\n",
    "    df = table[0]\n",
    "    mars_facts = df.to_html(border=0, index=False)\n",
    "    mars_facts.replace('\\n', '')"
   ]
  },
  {
   "cell_type": "code",
   "execution_count": 16,
   "metadata": {},
   "outputs": [
    {
     "data": {
      "text/plain": [
       "'<table border=\"0\" class=\"dataframe\">\\n  <thead>\\n    <tr style=\"text-align: right;\">\\n      <th>Mars - Earth Comparison</th>\\n      <th>Mars</th>\\n      <th>Earth</th>\\n    </tr>\\n  </thead>\\n  <tbody>\\n    <tr>\\n      <td>Diameter:</td>\\n      <td>6,779 km</td>\\n      <td>12,742 km</td>\\n    </tr>\\n    <tr>\\n      <td>Mass:</td>\\n      <td>6.39 × 10^23 kg</td>\\n      <td>5.97 × 10^24 kg</td>\\n    </tr>\\n    <tr>\\n      <td>Moons:</td>\\n      <td>2</td>\\n      <td>1</td>\\n    </tr>\\n    <tr>\\n      <td>Distance from Sun:</td>\\n      <td>227,943,824 km</td>\\n      <td>149,598,262 km</td>\\n    </tr>\\n    <tr>\\n      <td>Length of Year:</td>\\n      <td>687 Earth days</td>\\n      <td>365.24 days</td>\\n    </tr>\\n    <tr>\\n      <td>Temperature:</td>\\n      <td>-153 to 20 °C</td>\\n      <td>-88 to 58°C</td>\\n    </tr>\\n  </tbody>\\n</table>'"
      ]
     },
     "execution_count": 16,
     "metadata": {},
     "output_type": "execute_result"
    }
   ],
   "source": [
    "mars_facts"
   ]
  },
  {
   "cell_type": "code",
   "execution_count": 12,
   "metadata": {},
   "outputs": [],
   "source": [
    "#visit astrology.usgs.gov with splinter\n",
    "url = 'https://astrogeology.usgs.gov/search/results?q=hemisphere+enhanced&k1=target&v1=Mars'\n",
    "browser.visit(url)"
   ]
  },
  {
   "cell_type": "code",
   "execution_count": 13,
   "metadata": {},
   "outputs": [
    {
     "name": "stdout",
     "output_type": "stream",
     "text": [
      "https://astrogeology.usgs.gov//search/map/Mars/Viking/cerberus_enhanced\n",
      "https://astrogeology.usgs.gov//search/map/Mars/Viking/schiaparelli_enhanced\n",
      "https://astrogeology.usgs.gov//search/map/Mars/Viking/syrtis_major_enhanced\n",
      "https://astrogeology.usgs.gov//search/map/Mars/Viking/valles_marineris_enhanced\n"
     ]
    }
   ],
   "source": [
    "#get links to each hemisphere\n",
    "html = browser.html\n",
    "soup = bs(html, 'html.parser')\n",
    "base_url = 'https://astrogeology.usgs.gov/'\n",
    "\n",
    "mars_hemispheres = soup.find_all('a', class_='itemLink product-item')\n",
    "hemisphere1 = base_url + mars_hemispheres[0].attrs['href']\n",
    "hemisphere2 = base_url + mars_hemispheres[2].attrs['href']\n",
    "hemisphere3 = base_url + mars_hemispheres[4].attrs['href']\n",
    "hemisphere4 = base_url + mars_hemispheres[6].attrs['href']\n",
    "\n",
    "#print results\n",
    "print(hemisphere1)\n",
    "print(hemisphere2)\n",
    "print(hemisphere3)\n",
    "print(hemisphere4)"
   ]
  },
  {
   "cell_type": "code",
   "execution_count": 14,
   "metadata": {},
   "outputs": [
    {
     "name": "stdout",
     "output_type": "stream",
     "text": [
      "[{'title': 'Cerberus', 'img_url': 'http://astropedia.astrogeology.usgs.gov/download/Mars/Viking/cerberus_enhanced.tif/full.jpg'}, {'title': 'Schiaparelli', 'img_url': 'http://astropedia.astrogeology.usgs.gov/download/Mars/Viking/schiaparelli_enhanced.tif/full.jpg'}, {'title': 'Syrtis Major', 'img_url': 'http://astropedia.astrogeology.usgs.gov/download/Mars/Viking/syrtis_major_enhanced.tif/full.jpg'}, {'title': 'Valles Marineris', 'img_url': 'http://astropedia.astrogeology.usgs.gov/download/Mars/Viking/cerberus_enhanced.tif/full.jpg'}]\n"
     ]
    }
   ],
   "source": [
    "#Visit each link, collect hemisphere name and URL of image\n",
    "browser.visit(hemisphere1)\n",
    "html = browser.html\n",
    "soup = bs(html, 'html.parser')\n",
    "hemisphere1 = soup.find_all('li')\n",
    "hemisphere1_link = hemisphere1[0].find().attrs['href']\n",
    "hemisphere1_name = hemisphere1_link[61:]\n",
    "hemisphere1_name = hemisphere1_name[:-22]\n",
    "hemisphere1_name = hemisphere1_name.title()\n",
    "hemisphere1_name = hemisphere1_name.replace('_',' ')\n",
    "hem1_dict = {'title':hemisphere1_name,'img_url':hemisphere1_link}\n",
    "\n",
    "browser.visit(hemisphere2)\n",
    "html = browser.html\n",
    "soup = bs(html, 'html.parser')\n",
    "hemisphere2 = soup.find_all('li')\n",
    "hemisphere2_link = hemisphere2[0].find().attrs['href']\n",
    "hemisphere2_name = hemisphere2_link[61:]\n",
    "hemisphere2_name = hemisphere2_name[:-22]\n",
    "hemisphere2_name = hemisphere2_name.title()\n",
    "hemisphere2_name = hemisphere2_name.replace('_',' ')\n",
    "hem2_dict = {'title':hemisphere2_name,'img_url':hemisphere2_link}\n",
    "\n",
    "browser.visit(hemisphere3)\n",
    "html = browser.html\n",
    "soup = bs(html, 'html.parser')\n",
    "hemisphere3 = soup.find_all('li')\n",
    "hemisphere3_link = hemisphere3[0].find().attrs['href']\n",
    "hemisphere3_name = hemisphere3_link[61:]\n",
    "hemisphere3_name = hemisphere3_name[:-22]\n",
    "hemisphere3_name = hemisphere3_name.title()\n",
    "hemisphere3_name = hemisphere3_name.replace('_',' ')\n",
    "hem3_dict = {'title':hemisphere3_name,'img_url':hemisphere3_link}\n",
    "\n",
    "browser.visit(hemisphere4)\n",
    "html = browser.html\n",
    "soup = bs(html, 'html.parser')\n",
    "hemisphere4 = soup.find_all('li')\n",
    "hemisphere4_link = hemisphere4[0].find().attrs['href']\n",
    "hemisphere4_name = hemisphere4_link[61:]\n",
    "hemisphere4_name = hemisphere4_name[:-22]\n",
    "hemisphere4_name = hemisphere4_name.title()\n",
    "hemisphere4_name = hemisphere4_name.replace('_',' ')\n",
    "hem4_dict = {'title':hemisphere4_name,'img_url':hemisphere1_link}\n",
    "\n",
    "hemisphere_image_urls = [hem1_dict,hem2_dict,hem3_dict,hem4_dict]\n",
    "#print results\n",
    "print(hemisphere_image_urls)"
   ]
  },
  {
   "cell_type": "code",
   "execution_count": 15,
   "metadata": {
    "scrolled": true
   },
   "outputs": [
    {
     "name": "stdout",
     "output_type": "stream",
     "text": [
      "{'nasa_title': 'Mars 2020 Rover: T-Minus One Year and Counting ', 'nasa_news': \"The launch period for NASA's next rover, Mars 2020, opens exactly one year from today, July 17, 2020, and extends through Aug. 5, 2020.\", 'jpl_featured_image_url': 'https://www.jpl.nasa.gov/spaceimages/images/mediumsize/PIA20316_ip.jpg', 'mars_weather': 'Putting a 1 ton robot on another planet takes a few peoplehttps://twitter.com/earthtoleo/status/1152463780338532352\\xa0…', 'mars_facts': [                                    Mars            Earth\n",
      "Mars - Earth Comparison                                  \n",
      "Diameter:                       6,779 km        12,742 km\n",
      "Mass:                    6.39 × 10^23 kg  5.97 × 10^24 kg\n",
      "Moons:                                 2                1\n",
      "Distance from Sun:        227,943,824 km   149,598,262 km\n",
      "Length of Year:           687 Earth days      365.24 days\n",
      "Temperature:               -153 to 20 °C      -88 to 58°C,                       0                              1\n",
      "0  Equatorial Diameter:                       6,792 km\n",
      "1       Polar Diameter:                       6,752 km\n",
      "2                 Mass:  6.39 × 10^23 kg (0.11 Earths)\n",
      "3                Moons:            2 (Phobos & Deimos)\n",
      "4       Orbit Distance:       227,943,824 km (1.38 AU)\n",
      "5         Orbit Period:           687 days (1.9 years)\n",
      "6  Surface Temperature:                   -87 to -5 °C\n",
      "7         First Record:              2nd millennium BC\n",
      "8          Recorded By:           Egyptian astronomers], 'hemispheres': [{'title': 'Cerberus', 'img_url': 'http://astropedia.astrogeology.usgs.gov/download/Mars/Viking/cerberus_enhanced.tif/full.jpg'}, {'title': 'Schiaparelli', 'img_url': 'http://astropedia.astrogeology.usgs.gov/download/Mars/Viking/schiaparelli_enhanced.tif/full.jpg'}, {'title': 'Syrtis Major', 'img_url': 'http://astropedia.astrogeology.usgs.gov/download/Mars/Viking/syrtis_major_enhanced.tif/full.jpg'}, {'title': 'Valles Marineris', 'img_url': 'http://astropedia.astrogeology.usgs.gov/download/Mars/Viking/cerberus_enhanced.tif/full.jpg'}]}\n"
     ]
    }
   ],
   "source": [
    "Mission_to_Mars_dict = {'nasa_title':news_title,'nasa_news':news_p,'jpl_featured_image_url':featured_image_url,'mars_weather':mars_weather,'mars_facts':table,'hemispheres':hemisphere_image_urls}\n",
    "\n",
    "#print results\n",
    "\n",
    "print(Mission_to_Mars_dict)"
   ]
  },
  {
   "cell_type": "code",
   "execution_count": null,
   "metadata": {},
   "outputs": [],
   "source": []
  },
  {
   "cell_type": "code",
   "execution_count": null,
   "metadata": {},
   "outputs": [],
   "source": []
  }
 ],
 "metadata": {
  "kernelspec": {
   "display_name": "Python 3",
   "language": "python",
   "name": "python3"
  },
  "language_info": {
   "codemirror_mode": {
    "name": "ipython",
    "version": 3
   },
   "file_extension": ".py",
   "mimetype": "text/x-python",
   "name": "python",
   "nbconvert_exporter": "python",
   "pygments_lexer": "ipython3",
   "version": "3.7.3"
  }
 },
 "nbformat": 4,
 "nbformat_minor": 2
}
