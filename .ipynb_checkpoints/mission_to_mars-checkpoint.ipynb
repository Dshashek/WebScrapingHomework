{
 "cells": [
  {
   "cell_type": "code",
   "execution_count": 55,
   "metadata": {},
   "outputs": [],
   "source": [
    "#import dependencies\n",
    "from bs4 import BeautifulSoup as bs\n",
    "import pandas as pd\n",
    "from splinter import Browser"
   ]
  },
  {
   "cell_type": "code",
   "execution_count": 56,
   "metadata": {},
   "outputs": [],
   "source": [
    "#set up splinter to use Chrome\n",
    "executable_path = {'executable_path': 'chromedriver.exe'}\n",
    "browser = Browser('chrome', **executable_path, headless=False)"
   ]
  },
  {
   "cell_type": "code",
   "execution_count": 57,
   "metadata": {},
   "outputs": [],
   "source": [
    "#visit nasa page with splinter\n",
    "url = 'https://mars.nasa.gov/news/?page=0&per_page=40&order=publish_date+desc%2Ccreated_at+desc&search=&category=19%2C165%2C184%2C204&blank_scope=Latest'\n",
    "browser.visit(url)"
   ]
  },
  {
   "cell_type": "code",
   "execution_count": 58,
   "metadata": {},
   "outputs": [
    {
     "name": "stdout",
     "output_type": "stream",
     "text": [
      "Mars 2020 Rover Gets a Super Instrument\n",
      "With its rock-zapping laser, the SuperCam will enable the science team to identify the chemical and mineral makeup of its targets on the Red Planet.\n"
     ]
    }
   ],
   "source": [
    "#use Beautiful Soup to collect first article headline and teaser\n",
    "html = browser.html\n",
    "soup = bs(html, 'html.parser')\n",
    "\n",
    "news_title = soup.find('div', class_='content_title').text\n",
    "news_p = soup.find('div', class_='article_teaser_body').text\n",
    "\n",
    "#print results\n",
    "print(news_title)\n",
    "print(news_p)"
   ]
  },
  {
   "cell_type": "code",
   "execution_count": 59,
   "metadata": {},
   "outputs": [],
   "source": [
    "#visit JPL website with splinter|\n",
    "url = 'https://www.jpl.nasa.gov/spaceimages/?search=&category=Mars'\n",
    "browser.visit(url)"
   ]
  },
  {
   "cell_type": "code",
   "execution_count": 60,
   "metadata": {},
   "outputs": [
    {
     "name": "stdout",
     "output_type": "stream",
     "text": [
      "https://www.jpl.nasa.gov/spaceimages/images/mediumsize/PIA17761_ip.jpg\n"
     ]
    }
   ],
   "source": [
    "#use Beautiful Soup to collect url of featured image\n",
    "html = browser.html\n",
    "soup = bs(html, 'html.parser')\n",
    "\n",
    "featured_image_url = soup.find('article', class_='carousel_item')\n",
    "featured_image_url = featured_image_url.find(id=\"full_image\")\n",
    "featured_image_url = featured_image_url.attrs['data-fancybox-href']\n",
    "featured_image_url = 'https://www.jpl.nasa.gov' + featured_image_url\n",
    "#print result\n",
    "print(featured_image_url)"
   ]
  },
  {
   "cell_type": "code",
   "execution_count": 61,
   "metadata": {},
   "outputs": [],
   "source": [
    "#visit Mars Weather twitter page with splinter\n",
    "url = 'https://twitter.com/marswxreport?lang=en'\n",
    "browser.visit(url)"
   ]
  },
  {
   "cell_type": "code",
   "execution_count": 62,
   "metadata": {},
   "outputs": [
    {
     "name": "stdout",
     "output_type": "stream",
     "text": [
      "InSight sol 212 (2019-07-02) low -102.1ºC (-151.8ºF) high -24.2ºC (-11.6ºF)\n",
      "winds from the SSE at 4.3 m/s (9.5 mph) gusting to 15.7 m/s (35.2 mph)\n",
      "pressure at 7.60 hPapic.twitter.com/nm8kOX6ed2\n"
     ]
    }
   ],
   "source": [
    "#use Beautiful Soup to collect text of most recent tweet\n",
    "html = browser.html\n",
    "soup = bs(html, 'html.parser')\n",
    "\n",
    "mars_weather = soup.find('p', class_='TweetTextSize TweetTextSize--normal js-tweet-text tweet-text').text\n",
    "\n",
    "#print result\n",
    "print(mars_weather)"
   ]
  },
  {
   "cell_type": "code",
   "execution_count": 63,
   "metadata": {},
   "outputs": [
    {
     "name": "stdout",
     "output_type": "stream",
     "text": [
      "<bound method DataFrame.to_html of                       0                              1\n",
      "0  Equatorial Diameter:                       6,792 km\n",
      "1       Polar Diameter:                       6,752 km\n",
      "2                 Mass:  6.42 x 10^23 kg (10.7% Earth)\n",
      "3                Moons:            2 (Phobos & Deimos)\n",
      "4       Orbit Distance:       227,943,824 km (1.52 AU)\n",
      "5         Orbit Period:           687 days (1.9 years)\n",
      "6  Surface Temperature:                  -153 to 20 °C\n",
      "7         First Record:              2nd millennium BC\n",
      "8          Recorded By:           Egyptian astronomers>\n"
     ]
    }
   ],
   "source": [
    "#Use Pandas to collect Mars Facts table from space facts website\n",
    "url = 'https://space-facts.com/mars/'\n",
    "table = pd.read_html(url)\n",
    "table = table[0].to_html\n",
    "\n",
    "#print result\n",
    "print(table)"
   ]
  },
  {
   "cell_type": "code",
   "execution_count": 64,
   "metadata": {},
   "outputs": [],
   "source": [
    "#visit astrology.usgs.gov with splinter\n",
    "url = 'https://astrogeology.usgs.gov/search/results?q=hemisphere+enhanced&k1=target&v1=Mars'\n",
    "browser.visit(url)"
   ]
  },
  {
   "cell_type": "code",
   "execution_count": 65,
   "metadata": {},
   "outputs": [
    {
     "name": "stdout",
     "output_type": "stream",
     "text": [
      "https://astrogeology.usgs.gov//search/map/Mars/Viking/cerberus_enhanced\n",
      "https://astrogeology.usgs.gov//search/map/Mars/Viking/schiaparelli_enhanced\n",
      "https://astrogeology.usgs.gov//search/map/Mars/Viking/syrtis_major_enhanced\n",
      "https://astrogeology.usgs.gov//search/map/Mars/Viking/valles_marineris_enhanced\n"
     ]
    }
   ],
   "source": [
    "#get links to each hemisphere\n",
    "html = browser.html\n",
    "soup = bs(html, 'html.parser')\n",
    "base_url = 'https://astrogeology.usgs.gov/'\n",
    "\n",
    "mars_hemispheres = soup.find_all('a', class_='itemLink product-item')\n",
    "hemisphere1 = base_url + mars_hemispheres[0].attrs['href']\n",
    "hemisphere2 = base_url + mars_hemispheres[2].attrs['href']\n",
    "hemisphere3 = base_url + mars_hemispheres[4].attrs['href']\n",
    "hemisphere4 = base_url + mars_hemispheres[6].attrs['href']\n",
    "\n",
    "#print results\n",
    "print(hemisphere1)\n",
    "print(hemisphere2)\n",
    "print(hemisphere3)\n",
    "print(hemisphere4)"
   ]
  },
  {
   "cell_type": "code",
   "execution_count": 66,
   "metadata": {},
   "outputs": [
    {
     "name": "stdout",
     "output_type": "stream",
     "text": [
      "[{'title': 'Cerberus', 'img_url': 'http://astropedia.astrogeology.usgs.gov/download/Mars/Viking/cerberus_enhanced.tif/full.jpg'}, {'title': 'Schiaparelli', 'img_url': 'http://astropedia.astrogeology.usgs.gov/download/Mars/Viking/schiaparelli_enhanced.tif/full.jpg'}, {'title': 'Syrtis Major', 'img_url': 'http://astropedia.astrogeology.usgs.gov/download/Mars/Viking/syrtis_major_enhanced.tif/full.jpg'}, {'title': 'Valles Marineris', 'img_url': 'http://astropedia.astrogeology.usgs.gov/download/Mars/Viking/cerberus_enhanced.tif/full.jpg'}]\n"
     ]
    }
   ],
   "source": [
    "#Visit each link, collect hemisphere name and URL of image\n",
    "browser.visit(hemisphere1)\n",
    "html = browser.html\n",
    "soup = bs(html, 'html.parser')\n",
    "hemisphere1 = soup.find_all('li')\n",
    "hemisphere1_link = hemisphere1[0].find().attrs['href']\n",
    "hemisphere1_name = hemisphere1_link[61:]\n",
    "hemisphere1_name = hemisphere1_name[:-22]\n",
    "hemisphere1_name = hemisphere1_name.title()\n",
    "hemisphere1_name = hemisphere1_name.replace('_',' ')\n",
    "hem1_dict = {'title':hemisphere1_name,'img_url':hemisphere1_link}\n",
    "\n",
    "browser.visit(hemisphere2)\n",
    "html = browser.html\n",
    "soup = bs(html, 'html.parser')\n",
    "hemisphere2 = soup.find_all('li')\n",
    "hemisphere2_link = hemisphere2[0].find().attrs['href']\n",
    "hemisphere2_name = hemisphere2_link[61:]\n",
    "hemisphere2_name = hemisphere2_name[:-22]\n",
    "hemisphere2_name = hemisphere2_name.title()\n",
    "hemisphere2_name = hemisphere2_name.replace('_',' ')\n",
    "hem2_dict = {'title':hemisphere2_name,'img_url':hemisphere2_link}\n",
    "\n",
    "browser.visit(hemisphere3)\n",
    "html = browser.html\n",
    "soup = bs(html, 'html.parser')\n",
    "hemisphere3 = soup.find_all('li')\n",
    "hemisphere3_link = hemisphere3[0].find().attrs['href']\n",
    "hemisphere3_name = hemisphere3_link[61:]\n",
    "hemisphere3_name = hemisphere3_name[:-22]\n",
    "hemisphere3_name = hemisphere3_name.title()\n",
    "hemisphere3_name = hemisphere3_name.replace('_',' ')\n",
    "hem3_dict = {'title':hemisphere3_name,'img_url':hemisphere3_link}\n",
    "\n",
    "browser.visit(hemisphere4)\n",
    "html = browser.html\n",
    "soup = bs(html, 'html.parser')\n",
    "hemisphere4 = soup.find_all('li')\n",
    "hemisphere4_link = hemisphere4[0].find().attrs['href']\n",
    "hemisphere4_name = hemisphere4_link[61:]\n",
    "hemisphere4_name = hemisphere4_name[:-22]\n",
    "hemisphere4_name = hemisphere4_name.title()\n",
    "hemisphere4_name = hemisphere4_name.replace('_',' ')\n",
    "hem4_dict = {'title':hemisphere4_name,'img_url':hemisphere1_link}\n",
    "\n",
    "hemisphere_image_urls = [hem1_dict,hem2_dict,hem3_dict,hem4_dict]\n",
    "#print results\n",
    "print(hemisphere_image_urls)"
   ]
  },
  {
   "cell_type": "code",
   "execution_count": 68,
   "metadata": {},
   "outputs": [
    {
     "name": "stdout",
     "output_type": "stream",
     "text": [
      "{'nasa_title': 'Mars 2020 Rover Gets a Super Instrument', 'nasa_news': 'With its rock-zapping laser, the SuperCam will enable the science team to identify the chemical and mineral makeup of its targets on the Red Planet.', 'jpl_featured_image_url': 'https://www.jpl.nasa.gov/spaceimages/images/mediumsize/PIA17761_ip.jpg', 'mars_weather': 'InSight sol 212 (2019-07-02) low -102.1ºC (-151.8ºF) high -24.2ºC (-11.6ºF)\\nwinds from the SSE at 4.3 m/s (9.5 mph) gusting to 15.7 m/s (35.2 mph)\\npressure at 7.60 hPapic.twitter.com/nm8kOX6ed2', 'mars_facts': <bound method DataFrame.to_html of                       0                              1\n",
      "0  Equatorial Diameter:                       6,792 km\n",
      "1       Polar Diameter:                       6,752 km\n",
      "2                 Mass:  6.42 x 10^23 kg (10.7% Earth)\n",
      "3                Moons:            2 (Phobos & Deimos)\n",
      "4       Orbit Distance:       227,943,824 km (1.52 AU)\n",
      "5         Orbit Period:           687 days (1.9 years)\n",
      "6  Surface Temperature:                  -153 to 20 °C\n",
      "7         First Record:              2nd millennium BC\n",
      "8          Recorded By:           Egyptian astronomers>, 'hemispheres': [{'title': 'Cerberus', 'img_url': 'http://astropedia.astrogeology.usgs.gov/download/Mars/Viking/cerberus_enhanced.tif/full.jpg'}, {'title': 'Schiaparelli', 'img_url': 'http://astropedia.astrogeology.usgs.gov/download/Mars/Viking/schiaparelli_enhanced.tif/full.jpg'}, {'title': 'Syrtis Major', 'img_url': 'http://astropedia.astrogeology.usgs.gov/download/Mars/Viking/syrtis_major_enhanced.tif/full.jpg'}, {'title': 'Valles Marineris', 'img_url': 'http://astropedia.astrogeology.usgs.gov/download/Mars/Viking/cerberus_enhanced.tif/full.jpg'}]}\n"
     ]
    }
   ],
   "source": [
    "Mission_to_Mars_dict = {'nasa_title':news_title,'nasa_news':news_p,'jpl_featured_image_url':featured_image_url,'mars_weather':mars_weather,'mars_facts':table,'hemispheres':hemisphere_image_urls}\n",
    "\n",
    "#print results\n",
    "\n",
    "print(Mission_to_Mars_dict)"
   ]
  },
  {
   "cell_type": "code",
   "execution_count": null,
   "metadata": {},
   "outputs": [],
   "source": []
  }
 ],
 "metadata": {
  "kernelspec": {
   "display_name": "Python [conda env:pythondata] *",
   "language": "python",
   "name": "conda-env-pythondata-py"
  },
  "language_info": {
   "codemirror_mode": {
    "name": "ipython",
    "version": 3
   },
   "file_extension": ".py",
   "mimetype": "text/x-python",
   "name": "python",
   "nbconvert_exporter": "python",
   "pygments_lexer": "ipython3",
   "version": "3.6.8"
  }
 },
 "nbformat": 4,
 "nbformat_minor": 2
}
