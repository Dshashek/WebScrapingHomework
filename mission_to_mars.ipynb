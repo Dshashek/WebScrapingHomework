{
 "cells": [
  {
   "cell_type": "code",
   "execution_count": 1,
   "metadata": {},
   "outputs": [],
   "source": [
    "#import dependencies\n",
    "from bs4 import BeautifulSoup as bs\n",
    "import pandas as pd\n",
    "from splinter import Browser\n",
    "import pymongo"
   ]
  },
  {
   "cell_type": "code",
   "execution_count": 2,
   "metadata": {},
   "outputs": [],
   "source": [
    "#set up splinter to use Chrome\n",
    "executable_path = {'executable_path': 'chromedriver.exe'}\n",
    "browser = Browser('chrome', **executable_path, headless=False)"
   ]
  },
  {
   "cell_type": "code",
   "execution_count": 3,
   "metadata": {},
   "outputs": [],
   "source": [
    "#visit nasa page with splinter\n",
    "url = 'https://mars.nasa.gov/news/?page=0&per_page=40&order=publish_date+desc%2Ccreated_at+desc&search=&category=19%2C165%2C184%2C204&blank_scope=Latest'\n",
    "browser.visit(url)"
   ]
  },
  {
   "cell_type": "code",
   "execution_count": 4,
   "metadata": {},
   "outputs": [
    {
     "name": "stdout",
     "output_type": "stream",
     "text": [
      "Want to Colonize Mars? Aerogel Could Help\n",
      "Researchers are studying whether a wonder material used in Mars rovers could help warm parts of the Red Planet rich in water ice.\n"
     ]
    }
   ],
   "source": [
    "#use Beautiful Soup to collect first article headline and teaser\n",
    "html = browser.html\n",
    "soup = bs(html, 'html.parser')\n",
    "\n",
    "news_title = soup.find('div', class_='content_title').text\n",
    "news_p = soup.find('div', class_='article_teaser_body').text\n",
    "\n",
    "#print results\n",
    "print(news_title)\n",
    "print(news_p)"
   ]
  },
  {
   "cell_type": "code",
   "execution_count": 5,
   "metadata": {},
   "outputs": [],
   "source": [
    "#visit JPL website with splinter|\n",
    "url = 'https://www.jpl.nasa.gov/spaceimages/?search=&category=Mars'\n",
    "browser.visit(url)"
   ]
  },
  {
   "cell_type": "code",
   "execution_count": 6,
   "metadata": {},
   "outputs": [
    {
     "name": "stdout",
     "output_type": "stream",
     "text": [
      "https://www.jpl.nasa.gov/spaceimages/images/mediumsize/PIA19968_ip.jpg\n"
     ]
    }
   ],
   "source": [
    "#use Beautiful Soup to collect url of featured image\n",
    "html = browser.html\n",
    "soup = bs(html, 'html.parser')\n",
    "\n",
    "featured_image_url = soup.find('article', class_='carousel_item')\n",
    "featured_image_url = featured_image_url.find(id=\"full_image\")\n",
    "featured_image_url = featured_image_url.attrs['data-fancybox-href']\n",
    "featured_image_url = 'https://www.jpl.nasa.gov' + featured_image_url\n",
    "#print result\n",
    "print(featured_image_url)"
   ]
  },
  {
   "cell_type": "code",
   "execution_count": 7,
   "metadata": {},
   "outputs": [],
   "source": [
    "#visit Mars Weather twitter page with splinter\n",
    "url = 'https://twitter.com/marswxreport?lang=en'\n",
    "browser.visit(url)"
   ]
  },
  {
   "cell_type": "code",
   "execution_count": 8,
   "metadata": {},
   "outputs": [
    {
     "name": "stdout",
     "output_type": "stream",
     "text": [
      "InSight sol 222 (2019-07-12) low -99.7ºC (-147.5ºF) high -24.8ºC (-12.6ºF)\n",
      "winds from the SSE at 4.2 m/s (9.4 mph) gusting to 15.6 m/s (34.8 mph)\n",
      "pressure at 7.60 hPapic.twitter.com/8Q8lyB6SjM\n"
     ]
    }
   ],
   "source": [
    "#use Beautiful Soup to collect text of most recent tweet\n",
    "html = browser.html\n",
    "soup = bs(html, 'html.parser')\n",
    "\n",
    "mars_weather = soup.find('p', class_='TweetTextSize TweetTextSize--normal js-tweet-text tweet-text').text\n",
    "\n",
    "#print result\n",
    "print(mars_weather)"
   ]
  },
  {
   "cell_type": "code",
   "execution_count": 9,
   "metadata": {},
   "outputs": [
    {
     "name": "stdout",
     "output_type": "stream",
     "text": [
      "<bound method DataFrame.to_html of   Mars - Earth Comparison             Mars            Earth\n",
      "0               Diameter:         6,779 km        12,742 km\n",
      "1                   Mass:  6.39 × 10^23 kg  5.97 × 10^24 kg\n",
      "2                  Moons:                2                1\n",
      "3      Distance from Sun:   227,943,824 km   149,598,262 km\n",
      "4         Length of Year:   687 Earth days      365.24 days\n",
      "5            Temperature:    -153 to 20 °C      -88 to 58°C>\n"
     ]
    }
   ],
   "source": [
    "#Use Pandas to collect Mars Facts table from space facts website\n",
    "url = 'https://space-facts.com/mars/'\n",
    "table = pd.read_html(url)\n",
    "table = table[0].to_html\n",
    "\n",
    "#print result\n",
    "print(table)"
   ]
  },
  {
   "cell_type": "code",
   "execution_count": 28,
   "metadata": {},
   "outputs": [
    {
     "name": "stdout",
     "output_type": "stream",
     "text": [
      "('Mass:', Mars     6.39 × 10^23 kg\n",
      "Earth    5.97 × 10^24 kg\n",
      "Name: Mass:, dtype: object)\n",
      "('Moons:', Mars     2\n",
      "Earth    1\n",
      "Name: Moons:, dtype: object)\n",
      "('Distance from Sun:', Mars     227,943,824 km\n",
      "Earth    149,598,262 km\n",
      "Name: Distance from Sun:, dtype: object)\n",
      "('Length of Year:', Mars     687 Earth days\n",
      "Earth       365.24 days\n",
      "Name: Length of Year:, dtype: object)\n",
      "('Temperature:', Mars     -153 to 20 °C\n",
      "Earth      -88 to 58°C\n",
      "Name: Temperature:, dtype: object)\n"
     ]
    }
   ],
   "source": [
    "    #get Mars Facts\n",
    "url = 'https://space-facts.com/mars/'\n",
    "table = pd.read_html(url)\n",
    "df = table[0]\n",
    "df.set_index('Mars - Earth Comparison', inplace=True)\n",
    "df = df.iloc[1:]\n",
    "for thing in df.iterrows():\n",
    "        print(thing)"
   ]
  },
  {
   "cell_type": "code",
   "execution_count": 23,
   "metadata": {},
   "outputs": [
    {
     "data": {
      "text/html": [
       "<div>\n",
       "<style scoped>\n",
       "    .dataframe tbody tr th:only-of-type {\n",
       "        vertical-align: middle;\n",
       "    }\n",
       "\n",
       "    .dataframe tbody tr th {\n",
       "        vertical-align: top;\n",
       "    }\n",
       "\n",
       "    .dataframe thead th {\n",
       "        text-align: right;\n",
       "    }\n",
       "</style>\n",
       "<table border=\"1\" class=\"dataframe\">\n",
       "  <thead>\n",
       "    <tr style=\"text-align: right;\">\n",
       "      <th></th>\n",
       "      <th>Mars</th>\n",
       "      <th>Earth</th>\n",
       "    </tr>\n",
       "    <tr>\n",
       "      <th>Mars - Earth Comparison</th>\n",
       "      <th></th>\n",
       "      <th></th>\n",
       "    </tr>\n",
       "  </thead>\n",
       "  <tbody>\n",
       "    <tr>\n",
       "      <th>Mass:</th>\n",
       "      <td>6.39 × 10^23 kg</td>\n",
       "      <td>5.97 × 10^24 kg</td>\n",
       "    </tr>\n",
       "    <tr>\n",
       "      <th>Moons:</th>\n",
       "      <td>2</td>\n",
       "      <td>1</td>\n",
       "    </tr>\n",
       "    <tr>\n",
       "      <th>Distance from Sun:</th>\n",
       "      <td>227,943,824 km</td>\n",
       "      <td>149,598,262 km</td>\n",
       "    </tr>\n",
       "    <tr>\n",
       "      <th>Length of Year:</th>\n",
       "      <td>687 Earth days</td>\n",
       "      <td>365.24 days</td>\n",
       "    </tr>\n",
       "    <tr>\n",
       "      <th>Temperature:</th>\n",
       "      <td>-153 to 20 °C</td>\n",
       "      <td>-88 to 58°C</td>\n",
       "    </tr>\n",
       "  </tbody>\n",
       "</table>\n",
       "</div>"
      ],
      "text/plain": [
       "                                    Mars            Earth\n",
       "Mars - Earth Comparison                                  \n",
       "Mass:                    6.39 × 10^23 kg  5.97 × 10^24 kg\n",
       "Moons:                                 2                1\n",
       "Distance from Sun:        227,943,824 km   149,598,262 km\n",
       "Length of Year:           687 Earth days      365.24 days\n",
       "Temperature:               -153 to 20 °C      -88 to 58°C"
      ]
     },
     "execution_count": 23,
     "metadata": {},
     "output_type": "execute_result"
    }
   ],
   "source": [
    "df"
   ]
  },
  {
   "cell_type": "code",
   "execution_count": null,
   "metadata": {},
   "outputs": [],
   "source": [
    "#visit astrology.usgs.gov with splinter\n",
    "url = 'https://astrogeology.usgs.gov/search/results?q=hemisphere+enhanced&k1=target&v1=Mars'\n",
    "browser.visit(url)"
   ]
  },
  {
   "cell_type": "code",
   "execution_count": null,
   "metadata": {},
   "outputs": [],
   "source": [
    "#get links to each hemisphere\n",
    "html = browser.html\n",
    "soup = bs(html, 'html.parser')\n",
    "base_url = 'https://astrogeology.usgs.gov/'\n",
    "\n",
    "mars_hemispheres = soup.find_all('a', class_='itemLink product-item')\n",
    "hemisphere1 = base_url + mars_hemispheres[0].attrs['href']\n",
    "hemisphere2 = base_url + mars_hemispheres[2].attrs['href']\n",
    "hemisphere3 = base_url + mars_hemispheres[4].attrs['href']\n",
    "hemisphere4 = base_url + mars_hemispheres[6].attrs['href']\n",
    "\n",
    "#print results\n",
    "print(hemisphere1)\n",
    "print(hemisphere2)\n",
    "print(hemisphere3)\n",
    "print(hemisphere4)"
   ]
  },
  {
   "cell_type": "code",
   "execution_count": null,
   "metadata": {},
   "outputs": [],
   "source": [
    "#Visit each link, collect hemisphere name and URL of image\n",
    "browser.visit(hemisphere1)\n",
    "html = browser.html\n",
    "soup = bs(html, 'html.parser')\n",
    "hemisphere1 = soup.find_all('li')\n",
    "hemisphere1_link = hemisphere1[0].find().attrs['href']\n",
    "hemisphere1_name = hemisphere1_link[61:]\n",
    "hemisphere1_name = hemisphere1_name[:-22]\n",
    "hemisphere1_name = hemisphere1_name.title()\n",
    "hemisphere1_name = hemisphere1_name.replace('_',' ')\n",
    "hem1_dict = {'title':hemisphere1_name,'img_url':hemisphere1_link}\n",
    "\n",
    "browser.visit(hemisphere2)\n",
    "html = browser.html\n",
    "soup = bs(html, 'html.parser')\n",
    "hemisphere2 = soup.find_all('li')\n",
    "hemisphere2_link = hemisphere2[0].find().attrs['href']\n",
    "hemisphere2_name = hemisphere2_link[61:]\n",
    "hemisphere2_name = hemisphere2_name[:-22]\n",
    "hemisphere2_name = hemisphere2_name.title()\n",
    "hemisphere2_name = hemisphere2_name.replace('_',' ')\n",
    "hem2_dict = {'title':hemisphere2_name,'img_url':hemisphere2_link}\n",
    "\n",
    "browser.visit(hemisphere3)\n",
    "html = browser.html\n",
    "soup = bs(html, 'html.parser')\n",
    "hemisphere3 = soup.find_all('li')\n",
    "hemisphere3_link = hemisphere3[0].find().attrs['href']\n",
    "hemisphere3_name = hemisphere3_link[61:]\n",
    "hemisphere3_name = hemisphere3_name[:-22]\n",
    "hemisphere3_name = hemisphere3_name.title()\n",
    "hemisphere3_name = hemisphere3_name.replace('_',' ')\n",
    "hem3_dict = {'title':hemisphere3_name,'img_url':hemisphere3_link}\n",
    "\n",
    "browser.visit(hemisphere4)\n",
    "html = browser.html\n",
    "soup = bs(html, 'html.parser')\n",
    "hemisphere4 = soup.find_all('li')\n",
    "hemisphere4_link = hemisphere4[0].find().attrs['href']\n",
    "hemisphere4_name = hemisphere4_link[61:]\n",
    "hemisphere4_name = hemisphere4_name[:-22]\n",
    "hemisphere4_name = hemisphere4_name.title()\n",
    "hemisphere4_name = hemisphere4_name.replace('_',' ')\n",
    "hem4_dict = {'title':hemisphere4_name,'img_url':hemisphere1_link}\n",
    "\n",
    "hemisphere_image_urls = [hem1_dict,hem2_dict,hem3_dict,hem4_dict]\n",
    "#print results\n",
    "print(hemisphere_image_urls)"
   ]
  },
  {
   "cell_type": "code",
   "execution_count": null,
   "metadata": {
    "scrolled": true
   },
   "outputs": [],
   "source": [
    "Mission_to_Mars_dict = {'nasa_title':news_title,'nasa_news':news_p,'jpl_featured_image_url':featured_image_url,'mars_weather':mars_weather,'mars_facts':table,'hemispheres':hemisphere_image_urls}\n",
    "\n",
    "#print results\n",
    "\n",
    "print(Mission_to_Mars_dict)"
   ]
  },
  {
   "cell_type": "code",
   "execution_count": null,
   "metadata": {},
   "outputs": [],
   "source": []
  }
 ],
 "metadata": {
  "kernelspec": {
   "display_name": "Python 3",
   "language": "python",
   "name": "python3"
  },
  "language_info": {
   "codemirror_mode": {
    "name": "ipython",
    "version": 3
   },
   "file_extension": ".py",
   "mimetype": "text/x-python",
   "name": "python",
   "nbconvert_exporter": "python",
   "pygments_lexer": "ipython3",
   "version": "3.7.3"
  }
 },
 "nbformat": 4,
 "nbformat_minor": 2
}
